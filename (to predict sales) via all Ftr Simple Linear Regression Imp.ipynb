{
 "cells": [
  {
   "cell_type": "code",
   "execution_count": 13,
   "id": "566a1801-afea-42c1-a7ee-d6dbf191d041",
   "metadata": {},
   "outputs": [],
   "source": [
    "import pandas as pd\n",
    "import numpy as np\n",
    "import math\n",
    "import copy\n",
    "import joblib\n",
    "\n",
    "# Step 1: Load dataset\n",
    "dataset = pd.read_csv('advertising.csv')\n",
    "\n",
    "# Step 2: Prepare features and target\n",
    "X = dataset[['TV', 'Radio', 'Newspaper']].values  # shape (m, 3)\n",
    "y = dataset['Sales'].values                        # shape (m,)\n",
    "\n",
    "# Step 3: Normalize features\n",
    "X_mean = X.mean(axis=0)\n",
    "X_std = X.std(axis=0)\n",
    "X_norm = (X - X_mean) / X_std\n",
    "\n"
   ]
  },
  {
   "cell_type": "code",
   "execution_count": 14,
   "id": "0a17e7fa-663f-4e8d-8fc4-d0b5f7f73702",
   "metadata": {},
   "outputs": [],
   "source": [
    "# Step 4: Define compute_cost for multivariate input\n",
    "def compute_cost(X, y, w, b):\n",
    "    m = X.shape[0]\n",
    "    cost = 0\n",
    "    for i in range(m):\n",
    "        f_wb = np.dot(X[i], w) + b\n",
    "        cost += (f_wb - y[i]) ** 2\n",
    "    return cost / (2 * m)\n",
    "\n",
    "# Step 5: Define compute_gradient for multivariate input\n",
    "def compute_gradient(X, y, w, b):\n",
    "    m, n = X.shape\n",
    "    dj_dw = np.zeros(n)\n",
    "    dj_db = 0.0\n",
    "    for i in range(m):\n",
    "        f_wb = np.dot(X[i], w) + b\n",
    "        error = f_wb - y[i]\n",
    "        dj_db += error\n",
    "        for j in range(n):\n",
    "            dj_dw[j] += error * X[i][j]\n",
    "    dj_dw /= m\n",
    "    dj_db /= m\n",
    "    return dj_dw, dj_db\n",
    "\n",
    "# Step 6: Gradient descent function (unchanged logic)\n",
    "def gradient_descent(X, y, w_in, b_in, cost_function, gradient_function, alpha, num_iters):\n",
    "    w = copy.deepcopy(w_in)\n",
    "    b = b_in\n",
    "    J_history = []\n",
    "    for i in range(num_iters):\n",
    "        dj_dw, dj_db = gradient_function(X, y, w, b)\n",
    "        w -= alpha * dj_dw\n",
    "        b -= alpha * dj_db\n",
    "        cost = cost_function(X, y, w, b)\n",
    "        J_history.append(cost)\n",
    "        if i % (num_iters // 10) == 0:\n",
    "            print(f\"Iteration {i:4}: Cost {cost:8.4f}\")\n",
    "    return w, b, J_history\n",
    "\n"
   ]
  },
  {
   "cell_type": "code",
   "execution_count": 15,
   "id": "a51fa7f7-fa8c-4815-b6c7-b1a6754218e5",
   "metadata": {},
   "outputs": [],
   "source": [
    "# Step 7: Initialize parameters\n",
    "initial_w = np.zeros(X.shape[1])  # vector of zeros of length 3\n",
    "initial_b = 0.0\n",
    "alpha = 0.01\n",
    "iterations = 1000\n",
    "\n"
   ]
  },
  {
   "cell_type": "code",
   "execution_count": 16,
   "id": "e1b06b34-7e43-44b0-a24e-f4264fd7a755",
   "metadata": {},
   "outputs": [
    {
     "name": "stdout",
     "output_type": "stream",
     "text": [
      "Iteration    0: Cost 125.8130\n",
      "Iteration  100: Cost  17.9247\n",
      "Iteration  200: Cost   3.5819\n",
      "Iteration  300: Cost   1.6559\n",
      "Iteration  400: Cost   1.3948\n",
      "Iteration  500: Cost   1.3589\n",
      "Iteration  600: Cost   1.3539\n",
      "Iteration  700: Cost   1.3531\n",
      "Iteration  800: Cost   1.3530\n",
      "Iteration  900: Cost   1.3530\n",
      "\n",
      "Trained parameters:\n",
      "w = [4.6624771  1.58345404 0.0085512 ]\n",
      "b = 15.129846797441054\n"
     ]
    }
   ],
   "source": [
    "\n",
    "# Step 8: Train the model\n",
    "w, b, J_history = gradient_descent(X_norm, y, initial_w, initial_b, compute_cost, compute_gradient, alpha, iterations)\n",
    "\n",
    "print(f\"\\nTrained parameters:\\nw = {w}\\nb = {b}\")\n"
   ]
  },
  {
   "cell_type": "code",
   "execution_count": null,
   "id": "c09b51f9-2f82-4969-9474-cf4fa53e85ed",
   "metadata": {},
   "outputs": [],
   "source": []
  },
  {
   "cell_type": "code",
   "execution_count": 17,
   "id": "f4cf0e59-b6a9-4e41-b0a3-49730fa58407",
   "metadata": {},
   "outputs": [
    {
     "name": "stdout",
     "output_type": "stream",
     "text": [
      "Input features: [230.1  37.8  69.2] -> Predicted Sales: 21.22\n",
      "Input features: [44.5 39.3 45.1] -> Predicted Sales: 11.27\n",
      "Input features: [17.2 45.9 69.3] -> Predicted Sales: 10.50\n",
      "Input features: [151.5  41.3  58.5] -> Predicted Sales: 17.31\n"
     ]
    }
   ],
   "source": [
    "# Step 9: Prediction function for multivariate input\n",
    "def predict(x_input, w, b, X_mean, X_std):\n",
    "    x_norm = (x_input - X_mean) / X_std\n",
    "    return np.dot(x_norm, w) + b\n",
    "\n",
    "# Step 10: Test predictions on some inputs\n",
    "test_samples = np.array([\n",
    "    [230.1, 37.8, 69.2],\n",
    "    [44.5, 39.3, 45.1],\n",
    "    [17.2, 45.9, 69.3],\n",
    "    [151.5, 41.3, 58.5]\n",
    "])\n",
    "\n",
    "for sample in test_samples:\n",
    "    pred = predict(sample, w, b, X_mean, X_std)\n",
    "    print(f\"Input features: {sample} -> Predicted Sales: {pred:.2f}\")\n"
   ]
  },
  {
   "cell_type": "code",
   "execution_count": 18,
   "id": "469d45cb-4547-45ca-bbfc-e96d3daa30e0",
   "metadata": {},
   "outputs": [
    {
     "data": {
      "text/plain": [
       "['model.pkl']"
      ]
     },
     "execution_count": 18,
     "metadata": {},
     "output_type": "execute_result"
    }
   ],
   "source": [
    "# Save model data\n",
    "joblib.dump({'w': w, 'b': b, 'X_mean': X_mean, 'X_std': X_std}, 'model.pkl')\n"
   ]
  },
  {
   "cell_type": "code",
   "execution_count": null,
   "id": "8bcb65af-b01c-4c62-916c-c2e1ebd5f897",
   "metadata": {},
   "outputs": [],
   "source": []
  },
  {
   "cell_type": "code",
   "execution_count": null,
   "id": "26a8cb39-b23b-4523-bcd8-e400fad35f4d",
   "metadata": {},
   "outputs": [],
   "source": []
  }
 ],
 "metadata": {
  "kernelspec": {
   "display_name": "Python 3 (ipykernel)",
   "language": "python",
   "name": "python3"
  },
  "language_info": {
   "codemirror_mode": {
    "name": "ipython",
    "version": 3
   },
   "file_extension": ".py",
   "mimetype": "text/x-python",
   "name": "python",
   "nbconvert_exporter": "python",
   "pygments_lexer": "ipython3",
   "version": "3.12.2"
  }
 },
 "nbformat": 4,
 "nbformat_minor": 5
}
