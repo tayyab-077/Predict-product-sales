{
 "cells": [
  {
   "cell_type": "markdown",
   "id": "82997a8e-be03-4a5b-a930-e1f42d1d532a",
   "metadata": {},
   "source": [
    "### Example: source link\n",
    "https://medium.com/machine-learning-with-python/linear-regression-implementation-in-python-2de514d3a34e\n",
    "\n",
    "Predicting sales based on the money spent on TV for marketing. In this case, there is only one independent variable, i.e., money spent on TV for marketing, and one dependent variable, i.e., sales, that is the value to be predicted."
   ]
  },
  {
   "cell_type": "code",
   "execution_count": 1,
   "id": "bf45d11b-bd96-4c2e-b66d-8fd43e449824",
   "metadata": {},
   "outputs": [],
   "source": [
    "import pandas as pd\n",
    "import numpy as np\n",
    "import matplotlib.pyplot as plt\n",
    "import seaborn as sns\n",
    "import copy\n",
    "import math\n",
    "from sklearn.model_selection import train_test_split\n",
    "import csv"
   ]
  },
  {
   "cell_type": "code",
   "execution_count": 2,
   "id": "04158e84-c72d-4775-a7da-aef344a691ea",
   "metadata": {},
   "outputs": [],
   "source": [
    "dataset = pd.read_csv('advertising.csv')"
   ]
  },
  {
   "cell_type": "code",
   "execution_count": 3,
   "id": "cf338184-6a69-4bec-85d9-ed5a0eeea1ae",
   "metadata": {},
   "outputs": [
    {
     "data": {
      "text/html": [
       "<div>\n",
       "<style scoped>\n",
       "    .dataframe tbody tr th:only-of-type {\n",
       "        vertical-align: middle;\n",
       "    }\n",
       "\n",
       "    .dataframe tbody tr th {\n",
       "        vertical-align: top;\n",
       "    }\n",
       "\n",
       "    .dataframe thead th {\n",
       "        text-align: right;\n",
       "    }\n",
       "</style>\n",
       "<table border=\"1\" class=\"dataframe\">\n",
       "  <thead>\n",
       "    <tr style=\"text-align: right;\">\n",
       "      <th></th>\n",
       "      <th>TV</th>\n",
       "      <th>Radio</th>\n",
       "      <th>Newspaper</th>\n",
       "      <th>Sales</th>\n",
       "    </tr>\n",
       "  </thead>\n",
       "  <tbody>\n",
       "    <tr>\n",
       "      <th>0</th>\n",
       "      <td>230.1</td>\n",
       "      <td>37.8</td>\n",
       "      <td>69.2</td>\n",
       "      <td>22.1</td>\n",
       "    </tr>\n",
       "    <tr>\n",
       "      <th>1</th>\n",
       "      <td>44.5</td>\n",
       "      <td>39.3</td>\n",
       "      <td>45.1</td>\n",
       "      <td>10.4</td>\n",
       "    </tr>\n",
       "    <tr>\n",
       "      <th>2</th>\n",
       "      <td>17.2</td>\n",
       "      <td>45.9</td>\n",
       "      <td>69.3</td>\n",
       "      <td>12.0</td>\n",
       "    </tr>\n",
       "    <tr>\n",
       "      <th>3</th>\n",
       "      <td>151.5</td>\n",
       "      <td>41.3</td>\n",
       "      <td>58.5</td>\n",
       "      <td>16.5</td>\n",
       "    </tr>\n",
       "    <tr>\n",
       "      <th>4</th>\n",
       "      <td>180.8</td>\n",
       "      <td>10.8</td>\n",
       "      <td>58.4</td>\n",
       "      <td>17.9</td>\n",
       "    </tr>\n",
       "  </tbody>\n",
       "</table>\n",
       "</div>"
      ],
      "text/plain": [
       "      TV  Radio  Newspaper  Sales\n",
       "0  230.1   37.8       69.2   22.1\n",
       "1   44.5   39.3       45.1   10.4\n",
       "2   17.2   45.9       69.3   12.0\n",
       "3  151.5   41.3       58.5   16.5\n",
       "4  180.8   10.8       58.4   17.9"
      ]
     },
     "execution_count": 3,
     "metadata": {},
     "output_type": "execute_result"
    }
   ],
   "source": [
    "dataset.head()"
   ]
  },
  {
   "cell_type": "code",
   "execution_count": 4,
   "id": "c85d4fff-3a55-4026-a0d1-7bba8e785e40",
   "metadata": {},
   "outputs": [],
   "source": [
    "#Dropping the unnecessary columns\n",
    "\n",
    "dataset.drop(columns=['Radio','Newspaper'], inplace=True)"
   ]
  },
  {
   "cell_type": "code",
   "execution_count": 5,
   "id": "e50873d1-e22f-4b36-9171-05f91bf4ecde",
   "metadata": {},
   "outputs": [
    {
     "data": {
      "text/html": [
       "<div>\n",
       "<style scoped>\n",
       "    .dataframe tbody tr th:only-of-type {\n",
       "        vertical-align: middle;\n",
       "    }\n",
       "\n",
       "    .dataframe tbody tr th {\n",
       "        vertical-align: top;\n",
       "    }\n",
       "\n",
       "    .dataframe thead th {\n",
       "        text-align: right;\n",
       "    }\n",
       "</style>\n",
       "<table border=\"1\" class=\"dataframe\">\n",
       "  <thead>\n",
       "    <tr style=\"text-align: right;\">\n",
       "      <th></th>\n",
       "      <th>TV</th>\n",
       "      <th>Sales</th>\n",
       "    </tr>\n",
       "  </thead>\n",
       "  <tbody>\n",
       "    <tr>\n",
       "      <th>0</th>\n",
       "      <td>230.1</td>\n",
       "      <td>22.1</td>\n",
       "    </tr>\n",
       "    <tr>\n",
       "      <th>1</th>\n",
       "      <td>44.5</td>\n",
       "      <td>10.4</td>\n",
       "    </tr>\n",
       "    <tr>\n",
       "      <th>2</th>\n",
       "      <td>17.2</td>\n",
       "      <td>12.0</td>\n",
       "    </tr>\n",
       "    <tr>\n",
       "      <th>3</th>\n",
       "      <td>151.5</td>\n",
       "      <td>16.5</td>\n",
       "    </tr>\n",
       "    <tr>\n",
       "      <th>4</th>\n",
       "      <td>180.8</td>\n",
       "      <td>17.9</td>\n",
       "    </tr>\n",
       "  </tbody>\n",
       "</table>\n",
       "</div>"
      ],
      "text/plain": [
       "      TV  Sales\n",
       "0  230.1   22.1\n",
       "1   44.5   10.4\n",
       "2   17.2   12.0\n",
       "3  151.5   16.5\n",
       "4  180.8   17.9"
      ]
     },
     "execution_count": 5,
     "metadata": {},
     "output_type": "execute_result"
    }
   ],
   "source": [
    "dataset.head()"
   ]
  },
  {
   "cell_type": "code",
   "execution_count": 6,
   "id": "8a3fc8d3-2b84-4d6a-aaaf-be465e6dd570",
   "metadata": {},
   "outputs": [],
   "source": [
    "#Setting the value for X and Y\n",
    "\n",
    "x_train = dataset['TV']\n",
    "y_train = dataset['Sales']\n",
    "\n",
    "\n",
    "# x = dataset[['TV']]\n",
    "# y = dataset['Sales']"
   ]
  },
  {
   "cell_type": "code",
   "execution_count": 7,
   "id": "372e8ad4-7273-4e22-a09d-f3565e993f8e",
   "metadata": {},
   "outputs": [],
   "source": [
    "# UNQ_C1\n",
    "# GRADED FUNCTION: compute_cost\n",
    "\n",
    "def compute_cost(x, y, w, b): \n",
    "    \"\"\"\n",
    "    Computes the cost function for linear regression.\n",
    "    \n",
    "    Args:\n",
    "        x (ndarray): Shape (m,) Input to the model (Population of cities) \n",
    "        y (ndarray): Shape (m,) Label (Actual profits for the cities)\n",
    "        w, b (scalar): Parameters of the model\n",
    "    \n",
    "    Returns\n",
    "        total_cost (float): The cost of using w,b as the parameters for linear regression\n",
    "               to fit the data points in x and y\n",
    "    \"\"\"\n",
    "    # number of training examples\n",
    "    m = x.shape[0] \n",
    "    \n",
    "    # You need to return this variable correctly\n",
    "    total_cost = 0\n",
    "    \n",
    "    ### START CODE HERE ###\n",
    "    cost=0\n",
    "    for i in range(m):\n",
    "        f_wb=w*x[i] + b\n",
    "        cost=cost + (f_wb - y[i])**2\n",
    "    total_cost= cost/(2*m)\n",
    "    \n",
    "    ### END CODE HERE ### \n",
    "\n",
    "    return total_cost"
   ]
  },
  {
   "cell_type": "code",
   "execution_count": 8,
   "id": "389c430d-3e0c-4358-bbf9-107ed9bda141",
   "metadata": {},
   "outputs": [
    {
     "name": "stdout",
     "output_type": "stream",
     "text": [
      "<class 'numpy.float64'>\n",
      "Cost at initial w: 53055.773\n",
      "<function compute_cost at 0x000002CA79E18FE0>\n"
     ]
    }
   ],
   "source": [
    "# Compute cost with some initial values for paramaters w, b\n",
    "initial_w = 2\n",
    "initial_b = 1\n",
    "\n",
    "cost = compute_cost(x_train, y_train, initial_w, initial_b)\n",
    "print(type(cost))\n",
    "print(f'Cost at initial w: {cost:.3f}')\n",
    "\n",
    "# # Public tests\n",
    "# from public_tests import *\n",
    "print(compute_cost)"
   ]
  },
  {
   "cell_type": "code",
   "execution_count": 9,
   "id": "d23f39c6-0f72-4287-a579-d65aaa61b79f",
   "metadata": {},
   "outputs": [],
   "source": [
    "# <!-- # UNQ_C2 -->\n",
    "# <!-- # GRADED FUNCTION: compute_gradient\n",
    "def compute_gradient(x, y, w, b):  \n",
    "    \"\"\"\n",
    "    Computes the gradient for linear regression \n",
    "    Args:\n",
    "      x (ndarray): Shape (m,) Input to the model (Population of cities) \n",
    "      y (ndarray): Shape (m,) Label (Actual profits for the cities)\n",
    "      w, b (scalar): Parameters of the model  \n",
    "    Returns\n",
    "      dj_dw (scalar): The gradient of the cost w.r.t. the parameters w\n",
    "      dj_db (scalar): The gradient of the cost w.r.t. the parameter b     \n",
    "     \"\"\"\n",
    "    \n",
    "    # Number of training examples\n",
    "    m = x.shape[0]\n",
    "    \n",
    "    # You need to return the following variables correctly\n",
    "    dj_dw = 0\n",
    "    dj_db = 0\n",
    "    \n",
    "    ### START CODE HERE ###\n",
    "    for i in range(m):\n",
    "        f_wb = w*x[i] + b\n",
    "        dj_dw = dj_dw + (f_wb - y[i])*x[i]\n",
    "        dj_db = dj_db + (f_wb - y[i])\n",
    "        \n",
    "    dj_dw = dj_dw/m\n",
    "    dj_db = dj_db/m\n",
    "    \n",
    "    ### END CODE HERE ### \n",
    "        \n",
    "    return dj_dw, dj_db"
   ]
  },
  {
   "cell_type": "code",
   "execution_count": 10,
   "id": "8054aaa7-fa9b-46f4-990c-cf49dde63210",
   "metadata": {},
   "outputs": [
    {
     "name": "stdout",
     "output_type": "stream",
     "text": [
      "Gradient at initial w, b (zeros): -2631.610449999999 -15.130500000000005\n",
      "<function compute_gradient at 0x000002CA79E78220>\n"
     ]
    }
   ],
   "source": [
    "\n",
    "# Compute and display gradient with w initialized to zeroes\n",
    "initial_w = 0\n",
    "initial_b = 0\n",
    "\n",
    "tmp_dj_dw, tmp_dj_db = compute_gradient(x_train, y_train, initial_w, initial_b)\n",
    "print('Gradient at initial w, b (zeros):', tmp_dj_dw, tmp_dj_db)\n",
    "\n",
    "print(compute_gradient)"
   ]
  },
  {
   "cell_type": "code",
   "execution_count": 11,
   "id": "19e89c80-d2ac-4561-923d-70bd8f54cfe2",
   "metadata": {},
   "outputs": [
    {
     "name": "stdout",
     "output_type": "stream",
     "text": [
      "Gradient at test w, b: 3188.9164399999995 14.477999999999994\n"
     ]
    }
   ],
   "source": [
    "\n",
    "# Compute and display cost and gradient with non-zero w\n",
    "test_w = 0.2\n",
    "test_b = 0.2\n",
    "tmp_dj_dw, tmp_dj_db = compute_gradient(x_train, y_train, test_w, test_b)\n",
    "\n",
    "print('Gradient at test w, b:', tmp_dj_dw, tmp_dj_db)"
   ]
  },
  {
   "cell_type": "code",
   "execution_count": 12,
   "id": "51386193-e777-4802-a4b1-b2efbf132054",
   "metadata": {},
   "outputs": [],
   "source": [
    "def gradient_descent(x, y, w_in, b_in, cost_function, gradient_function, alpha, num_iters): \n",
    "    \"\"\"\n",
    "    Performs batch gradient descent to learn theta. Updates theta by taking \n",
    "    num_iters gradient steps with learning rate alpha\n",
    "    \n",
    "    Args:\n",
    "      x :    (ndarray): Shape (m,)\n",
    "      y :    (ndarray): Shape (m,)\n",
    "      w_in, b_in : (scalar) Initial values of parameters of the model\n",
    "      cost_function: function to compute cost\n",
    "      gradient_function: function to compute the gradient\n",
    "      alpha : (float) Learning rate\n",
    "      num_iters : (int) number of iterations to run gradient descent\n",
    "    Returns\n",
    "      w : (ndarray): Shape (1,) Updated values of parameters of the model after\n",
    "          running gradient descent\n",
    "      b : (scalar)                Updated value of parameter of the model after\n",
    "          running gradient descent\n",
    "    \"\"\"\n",
    "    \n",
    "    # number of training examples\n",
    "    m = len(x)\n",
    "    \n",
    "    # An array to store cost J and w's at each iteration — primarily for graphing later\n",
    "    J_history = []\n",
    "    w_history = []\n",
    "    w = copy.deepcopy(w_in)  #avoid modifying global w within function\n",
    "    b = b_in\n",
    "    \n",
    "    for i in range(num_iters):\n",
    "\n",
    "        # Calculate the gradient and update the parameters\n",
    "        dj_dw, dj_db = gradient_function(x, y, w, b )  \n",
    "\n",
    "        # Update Parameters using w, b, alpha and gradient\n",
    "        w = w - alpha * dj_dw               \n",
    "        b = b - alpha * dj_db               \n",
    "\n",
    "        # Save cost J at each iteration\n",
    "        if i<100000:      # prevent resource exhaustion \n",
    "            cost =  cost_function(x, y, w, b)\n",
    "            J_history.append(cost)\n",
    "\n",
    "        # Print cost every at intervals 10 times or as many iterations if < 10\n",
    "        if i% math.ceil(num_iters/10) == 0:\n",
    "            w_history.append(w)\n",
    "            print(f\"Iteration {i:4}: Cost {float(J_history[-1]):8.2f}   \")\n",
    "        \n",
    "    return w, b, J_history, w_history #return w and J,w history for graphing"
   ]
  },
  {
   "cell_type": "code",
   "execution_count": 13,
   "id": "f6cd02e2-51b2-4749-aef9-a602f8cd10e5",
   "metadata": {},
   "outputs": [],
   "source": [
    "\n",
    "# # Normalize the feature\n",
    "# x_train_norm = (x_train - x_train.mean()) / x_train.std()\n",
    "\n",
    "\n",
    "# # initialize fitting parameters. Recall that the shape of w is (n,)\n",
    "# initial_w = 0.\n",
    "# initial_b = 0.\n",
    "\n",
    "# # some gradient descent settings\n",
    "# iterations = 1000\n",
    "# alpha = 0.01\n",
    "\n",
    "# w, b, _, _ = gradient_descent(x_train_norm, y_train, initial_w, initial_b, \n",
    "#                               compute_cost, compute_gradient, alpha, iterations)\n",
    "\n",
    "# print(\"w,b found by gradient descent (normalized x):\", w, b)\n",
    "\n"
   ]
  },
  {
   "cell_type": "code",
   "execution_count": 18,
   "id": "5c8c1c90-1651-4769-a17d-de58e7da7c4b",
   "metadata": {},
   "outputs": [
    {
     "name": "stdout",
     "output_type": "stream",
     "text": [
      "Iteration    0: Cost   104.47   \n",
      "Iteration  150: Cost     2.61   \n",
      "Iteration  300: Cost     2.61   \n",
      "Iteration  450: Cost     2.61   \n",
      "Iteration  600: Cost     2.61   \n",
      "Iteration  750: Cost     2.61   \n",
      "Iteration  900: Cost     2.61   \n",
      "Iteration 1050: Cost     2.61   \n",
      "Iteration 1200: Cost     2.61   \n",
      "Iteration 1350: Cost     2.61   \n",
      "Trained parameters:\n",
      "w = 4.7619, b = 15.1305\n"
     ]
    }
   ],
   "source": [
    "# Step 1: Normalize training feature\n",
    "x_mean = x_train.mean()\n",
    "x_std = x_train.std()\n",
    "x_train_norm = (x_train - x_mean) / x_std\n",
    "\n",
    "# Step 2: Initialize parameters\n",
    "initial_w = 0.\n",
    "initial_b = 0.\n",
    "iterations = 1500\n",
    "alpha = 0.1  # can tune this now\n",
    "\n",
    "# Step 3: Train the model\n",
    "w, b, J_history, w_history = gradient_descent(x_train_norm, y_train, initial_w, initial_b, compute_cost, compute_gradient, alpha, iterations)\n",
    "\n",
    "print(\"Trained parameters:\")\n",
    "print(f\"w = {w:.4f}, b = {b:.4f}\")\n",
    "\n",
    "# Step 4: Define prediction function using normalization stats\n",
    "def predict(x, w, b, x_mean, x_std):\n",
    "    x_norm = (x - x_mean) / x_std\n",
    "    return w * x_norm + b\n"
   ]
  },
  {
   "cell_type": "code",
   "execution_count": 19,
   "id": "9f6841c3-d4eb-4593-9594-df7ec861e69f",
   "metadata": {},
   "outputs": [],
   "source": [
    "\n",
    "# # Example prediction on raw TV ad spend\n",
    "# example_tv_spend = [[230.1,44.5,17.2,151.5]]\n",
    "# predicted_sales = predict(example_tv_spend, w, b, x_mean, x_std)\n",
    "# print(f\"Predicted sales for TV ad spend {example_tv_spend}: {predicted_sales:.2f}\")\n"
   ]
  },
  {
   "cell_type": "code",
   "execution_count": 20,
   "id": "a2a18a07-f830-48ec-871c-4f0fccdd0f34",
   "metadata": {},
   "outputs": [
    {
     "name": "stdout",
     "output_type": "stream",
     "text": [
      "Predicted sales for TV ad spend 230.1: 19.74\n",
      "Predicted sales for TV ad spend 44.5: 9.44\n",
      "Predicted sales for TV ad spend 17.2: 7.93\n",
      "Predicted sales for TV ad spend 151.5: 15.38\n"
     ]
    }
   ],
   "source": [
    "# List of TV ad spends to predict for\n",
    "tv_spend_list = [230.1, 44.5, 17.2, 151.5]\n",
    "\n",
    "for tv_spend in tv_spend_list:\n",
    "    predicted_sales = predict(tv_spend, w, b, x_mean, x_std)\n",
    "    print(f\"Predicted sales for TV ad spend {tv_spend}: {predicted_sales:.2f}\")\n"
   ]
  },
  {
   "cell_type": "code",
   "execution_count": null,
   "id": "18739801-1f9b-46e7-a2c2-e7de65bf3d5e",
   "metadata": {},
   "outputs": [],
   "source": []
  }
 ],
 "metadata": {
  "kernelspec": {
   "display_name": "Python 3 (ipykernel)",
   "language": "python",
   "name": "python3"
  },
  "language_info": {
   "codemirror_mode": {
    "name": "ipython",
    "version": 3
   },
   "file_extension": ".py",
   "mimetype": "text/x-python",
   "name": "python",
   "nbconvert_exporter": "python",
   "pygments_lexer": "ipython3",
   "version": "3.12.2"
  }
 },
 "nbformat": 4,
 "nbformat_minor": 5
}
